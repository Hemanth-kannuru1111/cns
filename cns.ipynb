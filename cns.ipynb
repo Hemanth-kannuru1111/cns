{
  "nbformat": 4,
  "nbformat_minor": 0,
  "metadata": {
    "colab": {
      "provenance": [],
      "authorship_tag": "ABX9TyN/H8KMTdTXnubcJle9ppmI",
      "include_colab_link": true
    },
    "kernelspec": {
      "name": "python3",
      "display_name": "Python 3"
    },
    "language_info": {
      "name": "python"
    }
  },
  "cells": [
    {
      "cell_type": "markdown",
      "metadata": {
        "id": "view-in-github",
        "colab_type": "text"
      },
      "source": [
        "<a href=\"https://colab.research.google.com/github/Hemanth-kannuru1111/cns/blob/main/cns.ipynb\" target=\"_parent\"><img src=\"https://colab.research.google.com/assets/colab-badge.svg\" alt=\"Open In Colab\"/></a>"
      ]
    },
    {
      "cell_type": "markdown",
      "source": [],
      "metadata": {
        "id": "ClLH-5zavWjV"
      }
    },
    {
      "cell_type": "code",
      "source": [
        "pip install rsa"
      ],
      "metadata": {
        "colab": {
          "base_uri": "https://localhost:8080/"
        },
        "id": "5hbv36powYd7",
        "outputId": "95c70cb2-1e50-4834-8eaf-5634dab4de2c"
      },
      "execution_count": 2,
      "outputs": [
        {
          "output_type": "stream",
          "name": "stdout",
          "text": [
            "Requirement already satisfied: rsa in /usr/local/lib/python3.11/dist-packages (4.9)\n",
            "Requirement already satisfied: pyasn1>=0.1.3 in /usr/local/lib/python3.11/dist-packages (from rsa) (0.6.1)\n"
          ]
        }
      ]
    },
    {
      "cell_type": "code",
      "source": [
        "import rsa\n",
        "print(\"RSA module imported successfully!\")"
      ],
      "metadata": {
        "colab": {
          "base_uri": "https://localhost:8080/"
        },
        "id": "rF_vG40rwgBn",
        "outputId": "9850b0af-7f0b-442a-9ed1-af37664b9a0f"
      },
      "execution_count": 3,
      "outputs": [
        {
          "output_type": "stream",
          "name": "stdout",
          "text": [
            "RSA module imported successfully!\n"
          ]
        }
      ]
    },
    {
      "cell_type": "code",
      "source": [
        "def generate_keys():\n",
        "    \"\"\"Generate RSA key pair (public and private keys).\"\"\"\n",
        "    public_key, private_key = rsa.newkeys(2048)\n",
        "    return public_key, private_key"
      ],
      "metadata": {
        "id": "bBoqtIBJwkc1"
      },
      "execution_count": 4,
      "outputs": []
    },
    {
      "cell_type": "code",
      "source": [
        "def sign_message(message, private_key):\n",
        "    \"\"\"Sign the message using the private key.\"\"\"\n",
        "    message_bytes = message.encode()  # Convert message to bytes\n",
        "    signature = rsa.sign(message_bytes, private_key, 'SHA-256')\n",
        "    return signature.hex()  # Convert to hexadecimal for easy display\n"
      ],
      "metadata": {
        "id": "GrYTmDAVwpR7"
      },
      "execution_count": 5,
      "outputs": []
    },
    {
      "cell_type": "code",
      "source": [
        "def verify_signature(message, signature_hex, public_key):\n",
        "    \"\"\"Verify the digital signature using the public key.\"\"\"\n",
        "    try:\n",
        "        message_bytes = message.encode()\n",
        "        signature = bytes.fromhex(signature_hex)  # Convert hex back to bytes\n",
        "        rsa.verify(message_bytes, signature, public_key)\n",
        "        return True  # Signature is valid\n",
        "    except rsa.VerificationError:\n",
        "        return False  # Signature is invalid\n",
        "    except ValueError:\n",
        "        return False  # Incorrect signature format\n"
      ],
      "metadata": {
        "id": "c7pCV3fLwpVY"
      },
      "execution_count": 6,
      "outputs": []
    },
    {
      "cell_type": "code",
      "source": [
        "if __name__ == \"__main__\":\n",
        "    print(\"Generating RSA keys...\")\n",
        "    public_key, private_key = generate_keys()\n",
        "\n",
        "    message = \"This is a confidential message.\"\n",
        "    print(\"\\nOriginal Message:\", message)\n",
        "\n",
        "    # Generate digital signature\n",
        "    signature = sign_message(message, private_key)\n",
        "    print(\"\\nGenerated Digital Signature:\", signature)\n",
        "\n",
        "    # Verify signature\n",
        "    is_valid = verify_signature(message, signature, public_key)\n",
        "    if is_valid:\n",
        "        print(\"\\n✅ Signature is valid!\")\n",
        "    else:\n",
        "        print(\"\\n❌ Signature is invalid!\")"
      ],
      "metadata": {
        "colab": {
          "base_uri": "https://localhost:8080/"
        },
        "id": "BvkrGXQnww3t",
        "outputId": "99298f96-62dd-4a22-f95e-dab562568206"
      },
      "execution_count": 7,
      "outputs": [
        {
          "output_type": "stream",
          "name": "stdout",
          "text": [
            "Generating RSA keys...\n",
            "\n",
            "Original Message: This is a confidential message.\n",
            "\n",
            "Generated Digital Signature: 741b1698d223b951b50aad3387ded7866ea544f4e9cbfbd1e2a8bb1168c1fae1950dee6c5ecb4abc4cfb20fda1ad2ed44bbff3353d5e03260177d653deb9539066020f4a0e6b36ebdb40ff7e347394f8b1a1c6fcdc6d83c4c55f74331d8a1f72c79560957a650a2c40d1459f7be5a2021e03cbe12580fc96f5c565cccd51b4bd840dde2539d751a2faf51aa5acc3b04e1ff855dd45d5c11ff0bcab58830f30ce29e53c4372acfb849e7e949a2a1779cdf8d6049a674297d18216a9f0f37d4ec687125ad7130cd6c221a7a906a37b7211ec24c4f8c17708b9c72f00c54eebbb8ce9b771c7ef10d20365c714b55c4b1b032b2bcafebab3928740432b0ce915b8c6\n",
            "\n",
            "✅ Signature is valid!\n"
          ]
        }
      ]
    }
  ]
}